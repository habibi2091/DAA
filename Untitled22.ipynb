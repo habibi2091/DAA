{
  "nbformat": 4,
  "nbformat_minor": 0,
  "metadata": {
    "colab": {
      "provenance": []
    },
    "kernelspec": {
      "name": "python3",
      "display_name": "Python 3"
    },
    "language_info": {
      "name": "python"
    }
  },
  "cells": [
    {
      "cell_type": "code",
      "execution_count": 5,
      "metadata": {
        "id": "lncAfA8usoqa"
      },
      "outputs": [],
      "source": [
        "import tkinter as tk\n",
        "from tkinter import simpledialog, messagebox\n",
        "import matplotlib.pyplot as plt\n",
        "\n",
        "def hitung_persegi_panjang():\n",
        "    panjang = simpledialog.askfloat(\"Input\", \"Masukkan panjang:\")\n",
        "    lebar = simpledialog.askfloat(\"Input\", \"Masukkan lebar:\")\n",
        "    luas = panjang * lebar\n",
        "    keliling = 2 * (panjang + lebar)\n",
        "    messagebox.showinfo(\"Hasil\", f\"Luas: {luas}\\nKeliling: {keliling}\")"
      ]
    },
    {
      "cell_type": "code",
      "source": [
        "def hitung_segitiga():\n",
        "    alas = simpledialog.askfloat(\"Input\", \"Masukkan alas:\")\n",
        "    tinggi = simpledialog.askfloat(\"Input\", \"Masukkan tinggi:\")\n",
        "    sisi = simpledialog.askfloat(\"Input\", \"Masukkan sisi:\")\n",
        "    luas = 0.5 * alas * tinggi\n",
        "    keliling = alas + tinggi + sisi\n",
        "    messagebox.showinfo(\"Hasil\", f\"Luas: {luas}\\nKeliling: {keliling}\")\n"
      ],
      "metadata": {
        "id": "hSeCwCe6urU1"
      },
      "execution_count": 6,
      "outputs": []
    },
    {
      "cell_type": "code",
      "source": [
        "def hitung_lingkaran():\n",
        "    jari_jari = simpledialog.askfloat(\"Input\", \"Masukkan jari-jari:\")\n",
        "    luas = 3.14 * jari_jari**2\n",
        "    keliling = 2 * 3.14 * jari_jari\n",
        "    messagebox.showinfo(\"Hasil\", f\"Luas: {luas}\\nKeliling: {keliling}\")\n"
      ],
      "metadata": {
        "id": "BcejceePu1wM"
      },
      "execution_count": 7,
      "outputs": []
    },
    {
      "cell_type": "code",
      "source": [
        "def hitung_volume_kubus():\n",
        "    sisi = simpledialog.askfloat(\"Input\", \"Masukkan panjang sisi:\")\n",
        "    volume = sisi**3\n",
        "    messagebox.showinfo(\"Hasil\", f\"Volume: {volume}\")\n"
      ],
      "metadata": {
        "id": "_j6HVbrtu67U"
      },
      "execution_count": 8,
      "outputs": []
    },
    {
      "cell_type": "code",
      "source": [],
      "metadata": {
        "id": "6xzaF9mFvDIm"
      },
      "execution_count": null,
      "outputs": []
    }
  ]
}