{
  "nbformat": 4,
  "nbformat_minor": 0,
  "metadata": {
    "colab": {
      "provenance": [],
      "authorship_tag": "ABX9TyM3fZKdYySX4LG8SoOnfywS",
      "include_colab_link": true
    },
    "kernelspec": {
      "name": "python3",
      "display_name": "Python 3"
    },
    "language_info": {
      "name": "python"
    }
  },
  "cells": [
    {
      "cell_type": "markdown",
      "metadata": {
        "id": "view-in-github",
        "colab_type": "text"
      },
      "source": [
        "<a href=\"https://colab.research.google.com/github/habibi2091/DAA/blob/main/Pertemuan_11_DAA.ipynb\" target=\"_parent\"><img src=\"https://colab.research.google.com/assets/colab-badge.svg\" alt=\"Open In Colab\"/></a>"
      ]
    },
    {
      "cell_type": "code",
      "source": [
        "#a-----b\n",
        "#/     /\n",
        "#/     /\n",
        "#c-----d-----e"
      ],
      "metadata": {
        "id": "foVKKpKw7u3W"
      },
      "execution_count": null,
      "outputs": []
    },
    {
      "cell_type": "code",
      "execution_count": 3,
      "metadata": {
        "colab": {
          "base_uri": "https://localhost:8080/"
        },
        "id": "hbFLKkBC7X9S",
        "outputId": "e5ce7a24-a797-4ffe-c09f-2552def7e447"
      },
      "outputs": [
        {
          "output_type": "stream",
          "name": "stdout",
          "text": [
            "{'a': ['b', 'c'], 'b': ['a', 'd'], 'c': ['a', 'd'], 'd': ['e'], 'e': ['d']}\n"
          ]
        }
      ],
      "source": [
        "#Create the dictionary with graph elements\n",
        "graph = {\"a\" : [\"b\",\"c\"],\n",
        "         \"b\" : [\"a\",\"d\"],\n",
        "         \"c\" : [\"a\",\"d\"],\n",
        "         \"d\" : [\"e\"],\n",
        "         \"e\" : [\"d\"]\n",
        "         }\n",
        "# print the graph -> ->\n",
        "print(graph)"
      ]
    },
    {
      "cell_type": "code",
      "source": [
        "#Latihan 1\n",
        "graph = {\"T\" : [\"U\",\"W\"],\n",
        "         \"U\" : [\"T\",\"V\"],\n",
        "         \"V\" : [\"U\",\"X\"],\n",
        "         \"W\" : [\"T\",\"X\",\"Z\"],\n",
        "         \"X\" : [\"V\",\"W\",\"S\"],\n",
        "         \"Z\" : [\"W\"],\n",
        "         \"S\" : [\"X\"]\n",
        "         }\n",
        "\n",
        "print(graph)"
      ],
      "metadata": {
        "colab": {
          "base_uri": "https://localhost:8080/"
        },
        "id": "Vwd9u3U5-hJR",
        "outputId": "14ad14ef-752b-4d97-e1d7-e4753d9fb53e"
      },
      "execution_count": 5,
      "outputs": [
        {
          "output_type": "stream",
          "name": "stdout",
          "text": [
            "{'T': ['U', 'W'], 'U': ['T', 'V'], 'V': ['U', 'X'], 'W': ['T', 'X', 'Z'], 'X': ['V', 'W', 'S'], 'Z': ['W'], 'S': ['X']}\n"
          ]
        }
      ]
    },
    {
      "cell_type": "code",
      "source": [
        "#Buat Graph Lat2\n",
        "\n",
        "#R-----O-----M\n",
        "#|-----|-----|\n",
        "#L-----P-----N"
      ],
      "metadata": {
        "id": "my3_90XXBCn_"
      },
      "execution_count": 6,
      "outputs": []
    },
    {
      "cell_type": "code",
      "source": [
        "graph = {\"R\" : [\"O\",\"L\"],\n",
        "         \"O\" : [\"R\",\"M\",\"P\"],\n",
        "         \"M\" : [\"O\",\"N\"],\n",
        "         \"L\" : [\"R\",\"P\"],\n",
        "         \"P\" : [\"L\",\"O\",\"N\"],\n",
        "         \"N\" : [\"M\",\"P\"]\n",
        "         }\n",
        "\n",
        "print(graph)"
      ],
      "metadata": {
        "colab": {
          "base_uri": "https://localhost:8080/"
        },
        "id": "Bl0jJLJWBWMl",
        "outputId": "975395fa-c02c-4df3-a318-844953dc3864"
      },
      "execution_count": 11,
      "outputs": [
        {
          "output_type": "stream",
          "name": "stdout",
          "text": [
            "{'R': ['O', 'L'], 'O': ['R', 'M', 'P'], 'M': ['O', 'N'], 'L': ['R', 'P'], 'P': ['L', 'O', 'N'], 'N': ['M', 'P']}\n"
          ]
        }
      ]
    },
    {
      "cell_type": "code",
      "source": [
        "class graph:\n",
        "  def __init__(self,gdict=None):\n",
        "    if gdict is None:\n",
        "      gdict = []\n",
        "    self.gdict = gdict\n",
        "\n",
        "  def getVertices(self):\n",
        "    return list(self.gdict.keys())\n",
        "\n",
        "graph_elements = { \"a\" : [\"b\",\"c\"],\n",
        "                   \"b\" : [\"a\",\"d\"],\n",
        "                   \"c\" : [\"a\",\"d\"],\n",
        "                   \"d\" : [\"e\"],\n",
        "                   \"e\" : [\"d\"]\n",
        "                   }\n",
        "g = graph(graph_elements)\n",
        "\n",
        "print(g.getVertices())"
      ],
      "metadata": {
        "colab": {
          "base_uri": "https://localhost:8080/"
        },
        "id": "Mvu02PSoFATg",
        "outputId": "6fd750e7-88af-487a-fd96-d7632a3ea6a4"
      },
      "execution_count": 12,
      "outputs": [
        {
          "output_type": "stream",
          "name": "stdout",
          "text": [
            "['a', 'b', 'c', 'd', 'e']\n"
          ]
        }
      ]
    },
    {
      "cell_type": "code",
      "source": [
        "class graph:\n",
        "  def __init__(self,gdict=None):\n",
        "    if gdict is None:\n",
        "      gdict = []\n",
        "    self.gdict = gdict\n",
        "\n",
        "  def getVertices(self):\n",
        "    return list(self.gdict.keys())\n",
        "\n",
        "graph_elements ={\"T\" : [\"U\",\"W\"],\n",
        "                 \"U\" : [\"T\",\"V\"],\n",
        "                 \"V\" : [\"U\",\"X\"],\n",
        "                 \"W\" : [\"T\",\"X\",\"Z\"],\n",
        "                 \"X\" : [\"V\",\"W\",\"S\"],\n",
        "                 \"Z\" : [\"W\"],\n",
        "                 \"S\" : [\"X\"]\n",
        "                 }\n",
        "g = graph(graph_elements)\n",
        "\n",
        "print(g.getVertices())"
      ],
      "metadata": {
        "colab": {
          "base_uri": "https://localhost:8080/"
        },
        "id": "hnWZL82XJMTV",
        "outputId": "28e0ca78-5ff2-4641-d1e2-493ce8f6b3aa"
      },
      "execution_count": 15,
      "outputs": [
        {
          "output_type": "stream",
          "name": "stdout",
          "text": [
            "['T', 'U', 'V', 'W', 'X', 'Z', 'S']\n"
          ]
        }
      ]
    },
    {
      "cell_type": "code",
      "source": [
        "class graph:\n",
        "  def __init__(self,gdict=None):\n",
        "    if gdict is None:\n",
        "      gdict = []\n",
        "    self.gdict = gdict\n",
        "\n",
        "  def getVertices(self):\n",
        "    return list(self.gdict.keys())\n",
        "\n",
        "graph_elements ={\"R\" : [\"O\",\"L\"],\n",
        "                 \"O\" : [\"R\",\"M\",\"P\"],\n",
        "                 \"M\" : [\"O\",\"N\"],\n",
        "                 \"L\" : [\"R\",\"P\"],\n",
        "                 \"P\" : [\"L\",\"O\",\"N\"],\n",
        "                 \"N\" : [\"M\",\"P\"]\n",
        "                 }\n",
        "g = graph(graph_elements)\n",
        "\n",
        "print(g.getVertices())"
      ],
      "metadata": {
        "colab": {
          "base_uri": "https://localhost:8080/"
        },
        "id": "pkHonaqvJUUl",
        "outputId": "e83aed1d-79ab-4c4c-91b9-e134e19967e0"
      },
      "execution_count": 17,
      "outputs": [
        {
          "output_type": "stream",
          "name": "stdout",
          "text": [
            "['R', 'O', 'M', 'L', 'P', 'N']\n"
          ]
        }
      ]
    },
    {
      "cell_type": "code",
      "source": [
        "class graph:\n",
        "  def __init__(self,gdict=None):\n",
        "    if gdict is None:\n",
        "        gdict = {}\n",
        "    self.gdict = gdict\n",
        "\n",
        "  def edges(self):\n",
        "      return self.findedges()\n",
        "\n",
        "#Find The distinct list of edges\n",
        "  def findedges(self):\n",
        "      edgename = []\n",
        "      for vrtx in self.gdict:\n",
        "          for nxtvrtx in self.gdict[vrtx]:\n",
        "            if {nxtvrtx, vrtx} not in edgename:\n",
        "                edgename.append({vrtx, nxtvrtx})\n",
        "      return edgename\n",
        "\n",
        "# Create the dictionary with graph elements\n",
        "graph_elements = { \"a\" : [\"b\",\"c\"],\n",
        "                \"b\" : [\"a\", \"d\"],\n",
        "                \"c\" : [\"a\", \"d\"],\n",
        "                \"d\" : [\"e\"],\n",
        "                \"e\" : [\"d\"]\n",
        "                }\n",
        "g = graph(graph_elements)\n",
        "\n",
        "print(g.edges())"
      ],
      "metadata": {
        "colab": {
          "base_uri": "https://localhost:8080/"
        },
        "id": "Jb2K2RaqJYLF",
        "outputId": "affde94a-f77c-435a-bea7-b71cd7c66786"
      },
      "execution_count": 26,
      "outputs": [
        {
          "output_type": "stream",
          "name": "stdout",
          "text": [
            "[{'a', 'b'}, {'c', 'a'}, {'d', 'b'}, {'d', 'c'}, {'e', 'd'}]\n"
          ]
        }
      ]
    },
    {
      "cell_type": "code",
      "source": [
        "class graph:\n",
        "  def __init__(self,gdict=None):\n",
        "    if gdict is None:\n",
        "      gdict = {}\n",
        "    self.gdict = gdict\n",
        "\n",
        "  def getVertices(self):\n",
        "    return list(self.gdict.keys())\n",
        "\n",
        "  def addVertex(self, vrtx):\n",
        "    if vrtx not in self.gdict:\n",
        "      self.gdict[vrtx] = []\n",
        "      graph_elements =  {\"a\" : [\"b\",\"c\"],\n",
        "                   \"b\" : [\"a\",\"d\"],\n",
        "                   \"c\" : [\"a\",\"d\"],\n",
        "                   \"d\" : [\"e\"],\n",
        "                   \"e\" : [\"d\"]\n",
        "                   }\n",
        "g = graph(graph_elements)\n",
        "g.addVertex(\"f\")\n",
        "\n",
        "print(g.getVertices())"
      ],
      "metadata": {
        "colab": {
          "base_uri": "https://localhost:8080/"
        },
        "id": "O9h6AS0UQtb-",
        "outputId": "cfa38c91-ce46-49c0-96fc-5db25aed969b"
      },
      "execution_count": 28,
      "outputs": [
        {
          "output_type": "stream",
          "name": "stdout",
          "text": [
            "['a', 'b', 'c', 'd', 'e', 'f']\n"
          ]
        }
      ]
    },
    {
      "cell_type": "code",
      "source": [
        "class graph:\n",
        "  def __init__(self,gdict=None):\n",
        "    if gdict is None:\n",
        "      gdict = {}\n",
        "    self.gdict = gdict\n",
        "\n",
        "  def edges(self):\n",
        "    return self.findedges()\n",
        "\n",
        "  def AddEdge(self, edge):\n",
        "    edge = set(edge)\n",
        "    (vrtx1, vrtx2) = tuple(edge)\n",
        "    if vrtx1 in self.gdict:\n",
        "      self.gdict[vrtx1].append(vrtx2)\n",
        "    else:\n",
        "      self.gdict[vrtx1] = [vrtx2]\n",
        "\n",
        "  def findedges(self):\n",
        "    edgename = []\n",
        "    for vrtx in self.gdict:\n",
        "      for nxtvrtx in self.gdict[vrtx]:\n",
        "        if {nxtvrtx, vrtx} not in edgename:\n",
        "          edgename.append({vrtx, nxtvrtx})\n",
        "    return edgename\n",
        "\n",
        "graph_elements =  {\"a\" : [\"b\",\"c\"],\n",
        "                   \"b\" : [\"a\",\"d\"],\n",
        "                   \"c\" : [\"a\",\"d\"],\n",
        "                   \"d\" : [\"e\"],\n",
        "                   \"e\" : [\"d\"]\n",
        "                   }\n",
        "\n",
        "g = graph(graph_elements)\n",
        "g.AddEdge({'a','e'})\n",
        "g.AddEdge({'a','c'})\n",
        "\n",
        "print(g.edges())"
      ],
      "metadata": {
        "colab": {
          "base_uri": "https://localhost:8080/"
        },
        "id": "NmqS2KWgQ8r1",
        "outputId": "cb61b17f-8acf-48c5-861b-90ed83d76276"
      },
      "execution_count": 29,
      "outputs": [
        {
          "output_type": "stream",
          "name": "stdout",
          "text": [
            "[{'a', 'b'}, {'c', 'a'}, {'d', 'b'}, {'d', 'c'}, {'e', 'd'}, {'e', 'a'}]\n"
          ]
        }
      ]
    },
    {
      "cell_type": "code",
      "source": [],
      "metadata": {
        "id": "J4T0ygNpRQen"
      },
      "execution_count": null,
      "outputs": []
    }
  ]
}